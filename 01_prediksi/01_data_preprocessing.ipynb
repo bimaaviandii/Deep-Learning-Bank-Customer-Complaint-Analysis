{
  "cells": [
    {
      "cell_type": "markdown",
      "metadata": {
        "id": "RGu55wWuo3fh"
      },
      "source": [
        "# Dataset\n",
        "<hr>"
      ]
    },
    {
      "cell_type": "code",
      "execution_count": 1,
      "metadata": {},
      "outputs": [
        {
          "name": "stdout",
          "output_type": "stream",
          "text": [
            "Requirement already satisfied: pandas in c:\\users\\himawan putra\\documents\\github\\deep-learning-bank-customer-complaint-analysis\\.conda\\lib\\site-packages (2.2.2)\n",
            "Requirement already satisfied: numpy>=1.26.0 in c:\\users\\himawan putra\\documents\\github\\deep-learning-bank-customer-complaint-analysis\\.conda\\lib\\site-packages (from pandas) (1.26.4)\n",
            "Requirement already satisfied: python-dateutil>=2.8.2 in c:\\users\\himawan putra\\appdata\\roaming\\python\\python312\\site-packages (from pandas) (2.9.0.post0)\n",
            "Requirement already satisfied: pytz>=2020.1 in c:\\users\\himawan putra\\documents\\github\\deep-learning-bank-customer-complaint-analysis\\.conda\\lib\\site-packages (from pandas) (2024.1)\n",
            "Requirement already satisfied: tzdata>=2022.7 in c:\\users\\himawan putra\\documents\\github\\deep-learning-bank-customer-complaint-analysis\\.conda\\lib\\site-packages (from pandas) (2024.1)\n",
            "Requirement already satisfied: six>=1.5 in c:\\users\\himawan putra\\appdata\\roaming\\python\\python312\\site-packages (from python-dateutil>=2.8.2->pandas) (1.16.0)\n",
            "Note: you may need to restart the kernel to use updated packages.\n"
          ]
        }
      ],
      "source": [
        "pip install pandas\n"
      ]
    },
    {
      "cell_type": "code",
      "execution_count": 2,
      "metadata": {},
      "outputs": [
        {
          "name": "stdout",
          "output_type": "stream",
          "text": [
            "Requirement already satisfied: matplotlib in c:\\users\\himawan putra\\documents\\github\\deep-learning-bank-customer-complaint-analysis\\.conda\\lib\\site-packages (3.9.0)\n",
            "Requirement already satisfied: contourpy>=1.0.1 in c:\\users\\himawan putra\\documents\\github\\deep-learning-bank-customer-complaint-analysis\\.conda\\lib\\site-packages (from matplotlib) (1.2.1)\n",
            "Requirement already satisfied: cycler>=0.10 in c:\\users\\himawan putra\\documents\\github\\deep-learning-bank-customer-complaint-analysis\\.conda\\lib\\site-packages (from matplotlib) (0.12.1)\n",
            "Requirement already satisfied: fonttools>=4.22.0 in c:\\users\\himawan putra\\documents\\github\\deep-learning-bank-customer-complaint-analysis\\.conda\\lib\\site-packages (from matplotlib) (4.53.0)\n",
            "Requirement already satisfied: kiwisolver>=1.3.1 in c:\\users\\himawan putra\\documents\\github\\deep-learning-bank-customer-complaint-analysis\\.conda\\lib\\site-packages (from matplotlib) (1.4.5)\n",
            "Requirement already satisfied: numpy>=1.23 in c:\\users\\himawan putra\\documents\\github\\deep-learning-bank-customer-complaint-analysis\\.conda\\lib\\site-packages (from matplotlib) (1.26.4)\n",
            "Requirement already satisfied: packaging>=20.0 in c:\\users\\himawan putra\\appdata\\roaming\\python\\python312\\site-packages (from matplotlib) (24.1)\n",
            "Requirement already satisfied: pillow>=8 in c:\\users\\himawan putra\\documents\\github\\deep-learning-bank-customer-complaint-analysis\\.conda\\lib\\site-packages (from matplotlib) (10.3.0)\n",
            "Requirement already satisfied: pyparsing>=2.3.1 in c:\\users\\himawan putra\\documents\\github\\deep-learning-bank-customer-complaint-analysis\\.conda\\lib\\site-packages (from matplotlib) (3.1.2)\n",
            "Requirement already satisfied: python-dateutil>=2.7 in c:\\users\\himawan putra\\appdata\\roaming\\python\\python312\\site-packages (from matplotlib) (2.9.0.post0)\n",
            "Requirement already satisfied: six>=1.5 in c:\\users\\himawan putra\\appdata\\roaming\\python\\python312\\site-packages (from python-dateutil>=2.7->matplotlib) (1.16.0)\n",
            "Note: you may need to restart the kernel to use updated packages.\n"
          ]
        }
      ],
      "source": [
        "pip install matplotlib\n"
      ]
    },
    {
      "cell_type": "code",
      "execution_count": 3,
      "metadata": {},
      "outputs": [
        {
          "name": "stdout",
          "output_type": "stream",
          "text": [
            "Requirement already satisfied: seaborn in c:\\users\\himawan putra\\documents\\github\\deep-learning-bank-customer-complaint-analysis\\.conda\\lib\\site-packages (0.13.2)\n",
            "Requirement already satisfied: numpy!=1.24.0,>=1.20 in c:\\users\\himawan putra\\documents\\github\\deep-learning-bank-customer-complaint-analysis\\.conda\\lib\\site-packages (from seaborn) (1.26.4)\n",
            "Requirement already satisfied: pandas>=1.2 in c:\\users\\himawan putra\\documents\\github\\deep-learning-bank-customer-complaint-analysis\\.conda\\lib\\site-packages (from seaborn) (2.2.2)\n",
            "Requirement already satisfied: matplotlib!=3.6.1,>=3.4 in c:\\users\\himawan putra\\documents\\github\\deep-learning-bank-customer-complaint-analysis\\.conda\\lib\\site-packages (from seaborn) (3.9.0)\n",
            "Requirement already satisfied: contourpy>=1.0.1 in c:\\users\\himawan putra\\documents\\github\\deep-learning-bank-customer-complaint-analysis\\.conda\\lib\\site-packages (from matplotlib!=3.6.1,>=3.4->seaborn) (1.2.1)\n",
            "Requirement already satisfied: cycler>=0.10 in c:\\users\\himawan putra\\documents\\github\\deep-learning-bank-customer-complaint-analysis\\.conda\\lib\\site-packages (from matplotlib!=3.6.1,>=3.4->seaborn) (0.12.1)\n",
            "Requirement already satisfied: fonttools>=4.22.0 in c:\\users\\himawan putra\\documents\\github\\deep-learning-bank-customer-complaint-analysis\\.conda\\lib\\site-packages (from matplotlib!=3.6.1,>=3.4->seaborn) (4.53.0)\n",
            "Requirement already satisfied: kiwisolver>=1.3.1 in c:\\users\\himawan putra\\documents\\github\\deep-learning-bank-customer-complaint-analysis\\.conda\\lib\\site-packages (from matplotlib!=3.6.1,>=3.4->seaborn) (1.4.5)\n",
            "Requirement already satisfied: packaging>=20.0 in c:\\users\\himawan putra\\appdata\\roaming\\python\\python312\\site-packages (from matplotlib!=3.6.1,>=3.4->seaborn) (24.1)\n",
            "Requirement already satisfied: pillow>=8 in c:\\users\\himawan putra\\documents\\github\\deep-learning-bank-customer-complaint-analysis\\.conda\\lib\\site-packages (from matplotlib!=3.6.1,>=3.4->seaborn) (10.3.0)\n",
            "Requirement already satisfied: pyparsing>=2.3.1 in c:\\users\\himawan putra\\documents\\github\\deep-learning-bank-customer-complaint-analysis\\.conda\\lib\\site-packages (from matplotlib!=3.6.1,>=3.4->seaborn) (3.1.2)\n",
            "Requirement already satisfied: python-dateutil>=2.7 in c:\\users\\himawan putra\\appdata\\roaming\\python\\python312\\site-packages (from matplotlib!=3.6.1,>=3.4->seaborn) (2.9.0.post0)\n",
            "Requirement already satisfied: pytz>=2020.1 in c:\\users\\himawan putra\\documents\\github\\deep-learning-bank-customer-complaint-analysis\\.conda\\lib\\site-packages (from pandas>=1.2->seaborn) (2024.1)\n",
            "Requirement already satisfied: tzdata>=2022.7 in c:\\users\\himawan putra\\documents\\github\\deep-learning-bank-customer-complaint-analysis\\.conda\\lib\\site-packages (from pandas>=1.2->seaborn) (2024.1)\n",
            "Requirement already satisfied: six>=1.5 in c:\\users\\himawan putra\\appdata\\roaming\\python\\python312\\site-packages (from python-dateutil>=2.7->matplotlib!=3.6.1,>=3.4->seaborn) (1.16.0)\n",
            "Note: you may need to restart the kernel to use updated packages.\n"
          ]
        }
      ],
      "source": [
        "pip install seaborn\n"
      ]
    },
    {
      "cell_type": "code",
      "execution_count": 4,
      "metadata": {},
      "outputs": [
        {
          "data": {
            "text/html": [
              "<div>\n",
              "<style scoped>\n",
              "    .dataframe tbody tr th:only-of-type {\n",
              "        vertical-align: middle;\n",
              "    }\n",
              "\n",
              "    .dataframe tbody tr th {\n",
              "        vertical-align: top;\n",
              "    }\n",
              "\n",
              "    .dataframe thead th {\n",
              "        text-align: right;\n",
              "    }\n",
              "</style>\n",
              "<table border=\"1\" class=\"dataframe\">\n",
              "  <thead>\n",
              "    <tr style=\"text-align: right;\">\n",
              "      <th></th>\n",
              "      <th>Unnamed: 0</th>\n",
              "      <th>product</th>\n",
              "      <th>narrative</th>\n",
              "    </tr>\n",
              "  </thead>\n",
              "  <tbody>\n",
              "    <tr>\n",
              "      <th>0</th>\n",
              "      <td>0</td>\n",
              "      <td>credit_card</td>\n",
              "      <td>purchase order day shipping amount receive pro...</td>\n",
              "    </tr>\n",
              "    <tr>\n",
              "      <th>1</th>\n",
              "      <td>1</td>\n",
              "      <td>credit_card</td>\n",
              "      <td>forwarded message date tue subject please inve...</td>\n",
              "    </tr>\n",
              "    <tr>\n",
              "      <th>2</th>\n",
              "      <td>2</td>\n",
              "      <td>retail_banking</td>\n",
              "      <td>forwarded message cc sent friday pdt subject f...</td>\n",
              "    </tr>\n",
              "    <tr>\n",
              "      <th>3</th>\n",
              "      <td>3</td>\n",
              "      <td>credit_reporting</td>\n",
              "      <td>payment history missing credit report speciali...</td>\n",
              "    </tr>\n",
              "    <tr>\n",
              "      <th>4</th>\n",
              "      <td>4</td>\n",
              "      <td>credit_reporting</td>\n",
              "      <td>payment history missing credit report made mis...</td>\n",
              "    </tr>\n",
              "  </tbody>\n",
              "</table>\n",
              "</div>"
            ],
            "text/plain": [
              "   Unnamed: 0           product  \\\n",
              "0           0       credit_card   \n",
              "1           1       credit_card   \n",
              "2           2    retail_banking   \n",
              "3           3  credit_reporting   \n",
              "4           4  credit_reporting   \n",
              "\n",
              "                                           narrative  \n",
              "0  purchase order day shipping amount receive pro...  \n",
              "1  forwarded message date tue subject please inve...  \n",
              "2  forwarded message cc sent friday pdt subject f...  \n",
              "3  payment history missing credit report speciali...  \n",
              "4  payment history missing credit report made mis...  "
            ]
          },
          "execution_count": 4,
          "metadata": {},
          "output_type": "execute_result"
        }
      ],
      "source": [
        "import pandas as pd\n",
        "import pandas as pd\n",
        "\n",
        "df = pd.read_csv(\"archive/complaints.csv\",sep=\",\")\n",
        "df.head()"
      ]
    },
    {
      "cell_type": "markdown",
      "metadata": {},
      "source": [
        "# Data preprocessing"
      ]
    },
    {
      "cell_type": "code",
      "execution_count": 5,
      "metadata": {},
      "outputs": [
        {
          "data": {
            "text/html": [
              "<div>\n",
              "<style scoped>\n",
              "    .dataframe tbody tr th:only-of-type {\n",
              "        vertical-align: middle;\n",
              "    }\n",
              "\n",
              "    .dataframe tbody tr th {\n",
              "        vertical-align: top;\n",
              "    }\n",
              "\n",
              "    .dataframe thead th {\n",
              "        text-align: right;\n",
              "    }\n",
              "</style>\n",
              "<table border=\"1\" class=\"dataframe\">\n",
              "  <thead>\n",
              "    <tr style=\"text-align: right;\">\n",
              "      <th></th>\n",
              "      <th>Complaint_No</th>\n",
              "      <th>product</th>\n",
              "      <th>narrative</th>\n",
              "    </tr>\n",
              "  </thead>\n",
              "  <tbody>\n",
              "    <tr>\n",
              "      <th>0</th>\n",
              "      <td>0</td>\n",
              "      <td>credit_card</td>\n",
              "      <td>purchase order day shipping amount receive pro...</td>\n",
              "    </tr>\n",
              "    <tr>\n",
              "      <th>1</th>\n",
              "      <td>1</td>\n",
              "      <td>credit_card</td>\n",
              "      <td>forwarded message date tue subject please inve...</td>\n",
              "    </tr>\n",
              "    <tr>\n",
              "      <th>2</th>\n",
              "      <td>2</td>\n",
              "      <td>retail_banking</td>\n",
              "      <td>forwarded message cc sent friday pdt subject f...</td>\n",
              "    </tr>\n",
              "    <tr>\n",
              "      <th>3</th>\n",
              "      <td>3</td>\n",
              "      <td>credit_reporting</td>\n",
              "      <td>payment history missing credit report speciali...</td>\n",
              "    </tr>\n",
              "    <tr>\n",
              "      <th>4</th>\n",
              "      <td>4</td>\n",
              "      <td>credit_reporting</td>\n",
              "      <td>payment history missing credit report made mis...</td>\n",
              "    </tr>\n",
              "  </tbody>\n",
              "</table>\n",
              "</div>"
            ],
            "text/plain": [
              "   Complaint_No           product  \\\n",
              "0             0       credit_card   \n",
              "1             1       credit_card   \n",
              "2             2    retail_banking   \n",
              "3             3  credit_reporting   \n",
              "4             4  credit_reporting   \n",
              "\n",
              "                                           narrative  \n",
              "0  purchase order day shipping amount receive pro...  \n",
              "1  forwarded message date tue subject please inve...  \n",
              "2  forwarded message cc sent friday pdt subject f...  \n",
              "3  payment history missing credit report speciali...  \n",
              "4  payment history missing credit report made mis...  "
            ]
          },
          "execution_count": 5,
          "metadata": {},
          "output_type": "execute_result"
        }
      ],
      "source": [
        "df.rename(columns={'Unnamed: 0': 'Complaint_No'}, inplace=True)\n",
        "df.head()"
      ]
    },
    {
      "cell_type": "code",
      "execution_count": 6,
      "metadata": {},
      "outputs": [
        {
          "data": {
            "text/plain": [
              "array(['credit_card', 'retail_banking', 'credit_reporting',\n",
              "       'mortgages_and_loans', 'debt_collection'], dtype=object)"
            ]
          },
          "execution_count": 6,
          "metadata": {},
          "output_type": "execute_result"
        }
      ],
      "source": [
        "unique=df[\"product\"].unique()\n",
        "unique"
      ]
    },
    {
      "cell_type": "code",
      "execution_count": 7,
      "metadata": {},
      "outputs": [
        {
          "data": {
            "image/png": "[encoded data removed]",
            "text/plain": [
              "<Figure size 640x480 with 1 Axes>"
            ]
          },
          "metadata": {},
          "output_type": "display_data"
        }
      ],
      "source": [
        "import matplotlib.pyplot as plt\n",
        "import seaborn as sns\n",
        "\n",
        "sns.countplot(x='product', data=df)\n",
        "plt.title('Distribution of Complaints by Product')\n",
        "plt.xticks(rotation=45)  # Rotate x-axis labels for better visibility\n",
        "plt.show()\n",
        "\n"
      ]
    },
    {
      "cell_type": "code",
      "execution_count": 8,
      "metadata": {},
      "outputs": [
        {
          "data": {
            "image/png": "[encoded data removed]",
            "text/plain": [
              "<Figure size 640x480 with 1 Axes>"
            ]
          },
          "metadata": {},
          "output_type": "display_data"
        }
      ],
      "source": [
        "# Histogram of narrative lengths, handling NaN values\n",
        "df['narrative_length'] = df['narrative'].apply(lambda x: len(str(x)) if pd.notnull(x) else 0)\n",
        "sns.histplot(df['narrative_length'])\n",
        "plt.title('Distribution of Narrative Lengths')\n",
        "plt.xticks(rotation=45)  # Rotate x-axis labels for better visibility\n",
        "plt.show()\n"
      ]
    },
    {
      "cell_type": "code",
      "execution_count": 9,
      "metadata": {},
      "outputs": [
        {
          "data": {
            "text/html": [
              "<div>\n",
              "<style scoped>\n",
              "    .dataframe tbody tr th:only-of-type {\n",
              "        vertical-align: middle;\n",
              "    }\n",
              "\n",
              "    .dataframe tbody tr th {\n",
              "        vertical-align: top;\n",
              "    }\n",
              "\n",
              "    .dataframe thead th {\n",
              "        text-align: right;\n",
              "    }\n",
              "</style>\n",
              "<table border=\"1\" class=\"dataframe\">\n",
              "  <thead>\n",
              "    <tr style=\"text-align: right;\">\n",
              "      <th></th>\n",
              "      <th>Complaint_No</th>\n",
              "      <th>product</th>\n",
              "      <th>narrative</th>\n",
              "      <th>narrative_length</th>\n",
              "      <th>credit_card</th>\n",
              "      <th>credit_reporting</th>\n",
              "      <th>debt_collection</th>\n",
              "      <th>mortgages_and_loans</th>\n",
              "      <th>retail_banking</th>\n",
              "    </tr>\n",
              "  </thead>\n",
              "  <tbody>\n",
              "    <tr>\n",
              "      <th>0</th>\n",
              "      <td>0</td>\n",
              "      <td>credit_card</td>\n",
              "      <td>purchase order day shipping amount receive pro...</td>\n",
              "      <td>1705</td>\n",
              "      <td>True</td>\n",
              "      <td>False</td>\n",
              "      <td>False</td>\n",
              "      <td>False</td>\n",
              "      <td>False</td>\n",
              "    </tr>\n",
              "    <tr>\n",
              "      <th>1</th>\n",
              "      <td>1</td>\n",
              "      <td>credit_card</td>\n",
              "      <td>forwarded message date tue subject please inve...</td>\n",
              "      <td>904</td>\n",
              "      <td>True</td>\n",
              "      <td>False</td>\n",
              "      <td>False</td>\n",
              "      <td>False</td>\n",
              "      <td>False</td>\n",
              "    </tr>\n",
              "    <tr>\n",
              "      <th>2</th>\n",
              "      <td>2</td>\n",
              "      <td>retail_banking</td>\n",
              "      <td>forwarded message cc sent friday pdt subject f...</td>\n",
              "      <td>1230</td>\n",
              "      <td>False</td>\n",
              "      <td>False</td>\n",
              "      <td>False</td>\n",
              "      <td>False</td>\n",
              "      <td>True</td>\n",
              "    </tr>\n",
              "    <tr>\n",
              "      <th>3</th>\n",
              "      <td>3</td>\n",
              "      <td>credit_reporting</td>\n",
              "      <td>payment history missing credit report speciali...</td>\n",
              "      <td>903</td>\n",
              "      <td>False</td>\n",
              "      <td>True</td>\n",
              "      <td>False</td>\n",
              "      <td>False</td>\n",
              "      <td>False</td>\n",
              "    </tr>\n",
              "    <tr>\n",
              "      <th>4</th>\n",
              "      <td>4</td>\n",
              "      <td>credit_reporting</td>\n",
              "      <td>payment history missing credit report made mis...</td>\n",
              "      <td>851</td>\n",
              "      <td>False</td>\n",
              "      <td>True</td>\n",
              "      <td>False</td>\n",
              "      <td>False</td>\n",
              "      <td>False</td>\n",
              "    </tr>\n",
              "  </tbody>\n",
              "</table>\n",
              "</div>"
            ],
            "text/plain": [
              "   Complaint_No           product  \\\n",
              "0             0       credit_card   \n",
              "1             1       credit_card   \n",
              "2             2    retail_banking   \n",
              "3             3  credit_reporting   \n",
              "4             4  credit_reporting   \n",
              "\n",
              "                                           narrative  narrative_length  \\\n",
              "0  purchase order day shipping amount receive pro...              1705   \n",
              "1  forwarded message date tue subject please inve...               904   \n",
              "2  forwarded message cc sent friday pdt subject f...              1230   \n",
              "3  payment history missing credit report speciali...               903   \n",
              "4  payment history missing credit report made mis...               851   \n",
              "\n",
              "   credit_card  credit_reporting  debt_collection  mortgages_and_loans  \\\n",
              "0         True             False            False                False   \n",
              "1         True             False            False                False   \n",
              "2        False             False            False                False   \n",
              "3        False              True            False                False   \n",
              "4        False              True            False                False   \n",
              "\n",
              "   retail_banking  \n",
              "0           False  \n",
              "1           False  \n",
              "2            True  \n",
              "3           False  \n",
              "4           False  "
            ]
          },
          "execution_count": 9,
          "metadata": {},
          "output_type": "execute_result"
        }
      ],
      "source": [
        "df_encoded = pd.get_dummies(df['product'])\n",
        "df = pd.concat([df, df_encoded], axis=1)\n",
        "df.head()"
      ]
    },
    {
      "cell_type": "code",
      "execution_count": 10,
      "metadata": {},
      "outputs": [
        {
          "data": {
            "text/html": [
              "<div>\n",
              "<style scoped>\n",
              "    .dataframe tbody tr th:only-of-type {\n",
              "        vertical-align: middle;\n",
              "    }\n",
              "\n",
              "    .dataframe tbody tr th {\n",
              "        vertical-align: top;\n",
              "    }\n",
              "\n",
              "    .dataframe thead th {\n",
              "        text-align: right;\n",
              "    }\n",
              "</style>\n",
              "<table border=\"1\" class=\"dataframe\">\n",
              "  <thead>\n",
              "    <tr style=\"text-align: right;\">\n",
              "      <th></th>\n",
              "      <th>Complaint_No</th>\n",
              "      <th>narrative</th>\n",
              "      <th>narrative_length</th>\n",
              "      <th>credit_card</th>\n",
              "      <th>credit_reporting</th>\n",
              "      <th>debt_collection</th>\n",
              "      <th>mortgages_and_loans</th>\n",
              "      <th>retail_banking</th>\n",
              "    </tr>\n",
              "  </thead>\n",
              "  <tbody>\n",
              "    <tr>\n",
              "      <th>0</th>\n",
              "      <td>0</td>\n",
              "      <td>purchase order day shipping amount receive pro...</td>\n",
              "      <td>1705</td>\n",
              "      <td>True</td>\n",
              "      <td>False</td>\n",
              "      <td>False</td>\n",
              "      <td>False</td>\n",
              "      <td>False</td>\n",
              "    </tr>\n",
              "    <tr>\n",
              "      <th>1</th>\n",
              "      <td>1</td>\n",
              "      <td>forwarded message date tue subject please inve...</td>\n",
              "      <td>904</td>\n",
              "      <td>True</td>\n",
              "      <td>False</td>\n",
              "      <td>False</td>\n",
              "      <td>False</td>\n",
              "      <td>False</td>\n",
              "    </tr>\n",
              "    <tr>\n",
              "      <th>2</th>\n",
              "      <td>2</td>\n",
              "      <td>forwarded message cc sent friday pdt subject f...</td>\n",
              "      <td>1230</td>\n",
              "      <td>False</td>\n",
              "      <td>False</td>\n",
              "      <td>False</td>\n",
              "      <td>False</td>\n",
              "      <td>True</td>\n",
              "    </tr>\n",
              "    <tr>\n",
              "      <th>3</th>\n",
              "      <td>3</td>\n",
              "      <td>payment history missing credit report speciali...</td>\n",
              "      <td>903</td>\n",
              "      <td>False</td>\n",
              "      <td>True</td>\n",
              "      <td>False</td>\n",
              "      <td>False</td>\n",
              "      <td>False</td>\n",
              "    </tr>\n",
              "    <tr>\n",
              "      <th>4</th>\n",
              "      <td>4</td>\n",
              "      <td>payment history missing credit report made mis...</td>\n",
              "      <td>851</td>\n",
              "      <td>False</td>\n",
              "      <td>True</td>\n",
              "      <td>False</td>\n",
              "      <td>False</td>\n",
              "      <td>False</td>\n",
              "    </tr>\n",
              "  </tbody>\n",
              "</table>\n",
              "</div>"
            ],
            "text/plain": [
              "   Complaint_No                                          narrative  \\\n",
              "0             0  purchase order day shipping amount receive pro...   \n",
              "1             1  forwarded message date tue subject please inve...   \n",
              "2             2  forwarded message cc sent friday pdt subject f...   \n",
              "3             3  payment history missing credit report speciali...   \n",
              "4             4  payment history missing credit report made mis...   \n",
              "\n",
              "   narrative_length  credit_card  credit_reporting  debt_collection  \\\n",
              "0              1705         True             False            False   \n",
              "1               904         True             False            False   \n",
              "2              1230        False             False            False   \n",
              "3               903        False              True            False   \n",
              "4               851        False              True            False   \n",
              "\n",
              "   mortgages_and_loans  retail_banking  \n",
              "0                False           False  \n",
              "1                False           False  \n",
              "2                False            True  \n",
              "3                False           False  \n",
              "4                False           False  "
            ]
          },
          "execution_count": 10,
          "metadata": {},
          "output_type": "execute_result"
        }
      ],
      "source": [
        "df = df.drop('product', axis=1)\n",
        "df.head()"
      ]
    },
    {
      "cell_type": "code",
      "execution_count": 11,
      "metadata": {},
      "outputs": [
        {
          "name": "stdout",
          "output_type": "stream",
          "text": [
            "<class 'pandas.core.frame.DataFrame'>\n",
            "RangeIndex: 162421 entries, 0 to 162420\n",
            "Data columns (total 8 columns):\n",
            " #   Column               Non-Null Count   Dtype \n",
            "---  ------               --------------   ----- \n",
            " 0   Complaint_No         162421 non-null  int64 \n",
            " 1   narrative            162411 non-null  object\n",
            " 2   narrative_length     162421 non-null  int64 \n",
            " 3   credit_card          162421 non-null  bool  \n",
            " 4   credit_reporting     162421 non-null  bool  \n",
            " 5   debt_collection      162421 non-null  bool  \n",
            " 6   mortgages_and_loans  162421 non-null  bool  \n",
            " 7   retail_banking       162421 non-null  bool  \n",
            "dtypes: bool(5), int64(2), object(1)\n",
            "memory usage: 4.5+ MB\n"
          ]
        }
      ],
      "source": [
        "df.info()"
      ]
    },
    {
      "cell_type": "code",
      "execution_count": 12,
      "metadata": {},
      "outputs": [
        {
          "data": {
            "text/plain": [
              "Complaint_No            0\n",
              "narrative              10\n",
              "narrative_length        0\n",
              "credit_card             0\n",
              "credit_reporting        0\n",
              "debt_collection         0\n",
              "mortgages_and_loans     0\n",
              "retail_banking          0\n",
              "dtype: int64"
            ]
          },
          "execution_count": 12,
          "metadata": {},
          "output_type": "execute_result"
        }
      ],
      "source": [
        "df.isnull().sum()"
      ]
    },
    {
      "cell_type": "code",
      "execution_count": 13,
      "metadata": {},
      "outputs": [
        {
          "data": {
            "text/plain": [
              "Complaint_No           0\n",
              "narrative              0\n",
              "narrative_length       0\n",
              "credit_card            0\n",
              "credit_reporting       0\n",
              "debt_collection        0\n",
              "mortgages_and_loans    0\n",
              "retail_banking         0\n",
              "dtype: int64"
            ]
          },
          "execution_count": 13,
          "metadata": {},
          "output_type": "execute_result"
        }
      ],
      "source": [
        "df=df.dropna()\n",
        "df.isnull().sum()"
      ]
    },
    {
      "cell_type": "code",
      "execution_count": 14,
      "metadata": {},
      "outputs": [
        {
          "data": {
            "text/plain": [
              "0"
            ]
          },
          "execution_count": 14,
          "metadata": {},
          "output_type": "execute_result"
        }
      ],
      "source": [
        "df.duplicated().sum()"
      ]
    },
    {
      "cell_type": "code",
      "execution_count": 15,
      "metadata": {},
      "outputs": [
        {
          "data": {
            "image/png": "[encoded data removed]",
            "text/plain": [
              "<Figure size 1500x400 with 5 Axes>"
            ]
          },
          "metadata": {},
          "output_type": "display_data"
        }
      ],
      "source": [
        "import matplotlib.pyplot as plt\n",
        "# Count occurrences of each value in each column\n",
        "counts_credit_card = df[\"credit_card\"].value_counts()\n",
        "counts_credit_reporting = df[\"credit_reporting\"].value_counts()\n",
        "counts_debt_collection = df[\"debt_collection\"].value_counts()\n",
        "counts_mortgages_and_loans = df[\"mortgages_and_loans\"].value_counts()\n",
        "counts_retail_banking = df[\"retail_banking\"].value_counts()\n",
        "\n",
        "# Plotting\n",
        "fig, axes = plt.subplots(nrows=1, ncols=5, figsize=(15, 4))\n",
        "\n",
        "# Plot for 'credit_card' column\n",
        "axes[0].bar(counts_credit_card.index, counts_credit_card.values)\n",
        "axes[0].set_title('Credit Card')\n",
        "\n",
        "# Plot for 'credit_reporting' column\n",
        "axes[1].bar(counts_credit_reporting.index, counts_credit_reporting.values)\n",
        "axes[1].set_title('Credit Reporting')\n",
        "\n",
        "# Plot for 'debt_collection' column\n",
        "axes[2].bar(counts_debt_collection.index, counts_debt_collection.values)\n",
        "axes[2].set_title('Debt Collection')\n",
        "\n",
        "# Plot for 'mortgages_and_loans' column\n",
        "axes[3].bar(counts_mortgages_and_loans.index, counts_mortgages_and_loans.values)\n",
        "axes[3].set_title('Mortgages and Loans')\n",
        "\n",
        "# Plot for 'retail_banking' column\n",
        "axes[4].bar(counts_retail_banking.index, counts_retail_banking.values)\n",
        "axes[4].set_title('Retail Banking')\n",
        "\n",
        "plt.tight_layout()\n",
        "plt.show()"
      ]
    },
    {
      "cell_type": "markdown",
      "metadata": {},
      "source": [
        "## Text preperation"
      ]
    },
    {
      "cell_type": "markdown",
      "metadata": {},
      "source": [
        "## 1- lower case"
      ]
    },
    {
      "cell_type": "code",
      "execution_count": 16,
      "metadata": {},
      "outputs": [
        {
          "data": {
            "text/html": [
              "<div>\n",
              "<style scoped>\n",
              "    .dataframe tbody tr th:only-of-type {\n",
              "        vertical-align: middle;\n",
              "    }\n",
              "\n",
              "    .dataframe tbody tr th {\n",
              "        vertical-align: top;\n",
              "    }\n",
              "\n",
              "    .dataframe thead th {\n",
              "        text-align: right;\n",
              "    }\n",
              "</style>\n",
              "<table border=\"1\" class=\"dataframe\">\n",
              "  <thead>\n",
              "    <tr style=\"text-align: right;\">\n",
              "      <th></th>\n",
              "      <th>Complaint_No</th>\n",
              "      <th>narrative</th>\n",
              "      <th>narrative_length</th>\n",
              "      <th>credit_card</th>\n",
              "      <th>credit_reporting</th>\n",
              "      <th>debt_collection</th>\n",
              "      <th>mortgages_and_loans</th>\n",
              "      <th>retail_banking</th>\n",
              "    </tr>\n",
              "  </thead>\n",
              "  <tbody>\n",
              "    <tr>\n",
              "      <th>0</th>\n",
              "      <td>0</td>\n",
              "      <td>purchase order day shipping amount receive pro...</td>\n",
              "      <td>1705</td>\n",
              "      <td>True</td>\n",
              "      <td>False</td>\n",
              "      <td>False</td>\n",
              "      <td>False</td>\n",
              "      <td>False</td>\n",
              "    </tr>\n",
              "    <tr>\n",
              "      <th>1</th>\n",
              "      <td>1</td>\n",
              "      <td>forwarded message date tue subject please inve...</td>\n",
              "      <td>904</td>\n",
              "      <td>True</td>\n",
              "      <td>False</td>\n",
              "      <td>False</td>\n",
              "      <td>False</td>\n",
              "      <td>False</td>\n",
              "    </tr>\n",
              "    <tr>\n",
              "      <th>2</th>\n",
              "      <td>2</td>\n",
              "      <td>forwarded message cc sent friday pdt subject f...</td>\n",
              "      <td>1230</td>\n",
              "      <td>False</td>\n",
              "      <td>False</td>\n",
              "      <td>False</td>\n",
              "      <td>False</td>\n",
              "      <td>True</td>\n",
              "    </tr>\n",
              "    <tr>\n",
              "      <th>3</th>\n",
              "      <td>3</td>\n",
              "      <td>payment history missing credit report speciali...</td>\n",
              "      <td>903</td>\n",
              "      <td>False</td>\n",
              "      <td>True</td>\n",
              "      <td>False</td>\n",
              "      <td>False</td>\n",
              "      <td>False</td>\n",
              "    </tr>\n",
              "    <tr>\n",
              "      <th>4</th>\n",
              "      <td>4</td>\n",
              "      <td>payment history missing credit report made mis...</td>\n",
              "      <td>851</td>\n",
              "      <td>False</td>\n",
              "      <td>True</td>\n",
              "      <td>False</td>\n",
              "      <td>False</td>\n",
              "      <td>False</td>\n",
              "    </tr>\n",
              "  </tbody>\n",
              "</table>\n",
              "</div>"
            ],
            "text/plain": [
              "   Complaint_No                                          narrative  \\\n",
              "0             0  purchase order day shipping amount receive pro...   \n",
              "1             1  forwarded message date tue subject please inve...   \n",
              "2             2  forwarded message cc sent friday pdt subject f...   \n",
              "3             3  payment history missing credit report speciali...   \n",
              "4             4  payment history missing credit report made mis...   \n",
              "\n",
              "   narrative_length  credit_card  credit_reporting  debt_collection  \\\n",
              "0              1705         True             False            False   \n",
              "1               904         True             False            False   \n",
              "2              1230        False             False            False   \n",
              "3               903        False              True            False   \n",
              "4               851        False              True            False   \n",
              "\n",
              "   mortgages_and_loans  retail_banking  \n",
              "0                False           False  \n",
              "1                False           False  \n",
              "2                False            True  \n",
              "3                False           False  \n",
              "4                False           False  "
            ]
          },
          "execution_count": 16,
          "metadata": {},
          "output_type": "execute_result"
        }
      ],
      "source": [
        "df[\"narrative\"]=df[\"narrative\"].str.lower()\n",
        "df.head()"
      ]
    },
    {
      "cell_type": "code",
      "execution_count": 17,
      "metadata": {},
      "outputs": [],
      "source": [
        "## 2- remove html tags"
      ]
    },
    {
      "cell_type": "code",
      "execution_count": 18,
      "metadata": {},
      "outputs": [
        {
          "name": "stdout",
          "output_type": "stream",
          "text": [
            "Requirement already satisfied: beautifulsoup4 in c:\\users\\himawan putra\\documents\\github\\deep-learning-bank-customer-complaint-analysis\\.conda\\lib\\site-packages (4.12.3)\n",
            "Requirement already satisfied: soupsieve>1.2 in c:\\users\\himawan putra\\documents\\github\\deep-learning-bank-customer-complaint-analysis\\.conda\\lib\\site-packages (from beautifulsoup4) (2.5)\n"
          ]
        }
      ],
      "source": [
        "!pip install beautifulsoup4"
      ]
    },
    {
      "cell_type": "code",
      "execution_count": 19,
      "metadata": {},
      "outputs": [
        {
          "data": {
            "text/html": [
              "<div>\n",
              "<style scoped>\n",
              "    .dataframe tbody tr th:only-of-type {\n",
              "        vertical-align: middle;\n",
              "    }\n",
              "\n",
              "    .dataframe tbody tr th {\n",
              "        vertical-align: top;\n",
              "    }\n",
              "\n",
              "    .dataframe thead th {\n",
              "        text-align: right;\n",
              "    }\n",
              "</style>\n",
              "<table border=\"1\" class=\"dataframe\">\n",
              "  <thead>\n",
              "    <tr style=\"text-align: right;\">\n",
              "      <th></th>\n",
              "      <th>Complaint_No</th>\n",
              "      <th>narrative</th>\n",
              "      <th>narrative_length</th>\n",
              "      <th>credit_card</th>\n",
              "      <th>credit_reporting</th>\n",
              "      <th>debt_collection</th>\n",
              "      <th>mortgages_and_loans</th>\n",
              "      <th>retail_banking</th>\n",
              "      <th>has_html_tags</th>\n",
              "    </tr>\n",
              "  </thead>\n",
              "  <tbody>\n",
              "    <tr>\n",
              "      <th>0</th>\n",
              "      <td>0</td>\n",
              "      <td>purchase order day shipping amount receive pro...</td>\n",
              "      <td>1705</td>\n",
              "      <td>True</td>\n",
              "      <td>False</td>\n",
              "      <td>False</td>\n",
              "      <td>False</td>\n",
              "      <td>False</td>\n",
              "      <td>False</td>\n",
              "    </tr>\n",
              "    <tr>\n",
              "      <th>1</th>\n",
              "      <td>1</td>\n",
              "      <td>forwarded message date tue subject please inve...</td>\n",
              "      <td>904</td>\n",
              "      <td>True</td>\n",
              "      <td>False</td>\n",
              "      <td>False</td>\n",
              "      <td>False</td>\n",
              "      <td>False</td>\n",
              "      <td>False</td>\n",
              "    </tr>\n",
              "    <tr>\n",
              "      <th>2</th>\n",
              "      <td>2</td>\n",
              "      <td>forwarded message cc sent friday pdt subject f...</td>\n",
              "      <td>1230</td>\n",
              "      <td>False</td>\n",
              "      <td>False</td>\n",
              "      <td>False</td>\n",
              "      <td>False</td>\n",
              "      <td>True</td>\n",
              "      <td>False</td>\n",
              "    </tr>\n",
              "    <tr>\n",
              "      <th>3</th>\n",
              "      <td>3</td>\n",
              "      <td>payment history missing credit report speciali...</td>\n",
              "      <td>903</td>\n",
              "      <td>False</td>\n",
              "      <td>True</td>\n",
              "      <td>False</td>\n",
              "      <td>False</td>\n",
              "      <td>False</td>\n",
              "      <td>False</td>\n",
              "    </tr>\n",
              "    <tr>\n",
              "      <th>4</th>\n",
              "      <td>4</td>\n",
              "      <td>payment history missing credit report made mis...</td>\n",
              "      <td>851</td>\n",
              "      <td>False</td>\n",
              "      <td>True</td>\n",
              "      <td>False</td>\n",
              "      <td>False</td>\n",
              "      <td>False</td>\n",
              "      <td>False</td>\n",
              "    </tr>\n",
              "  </tbody>\n",
              "</table>\n",
              "</div>"
            ],
            "text/plain": [
              "   Complaint_No                                          narrative  \\\n",
              "0             0  purchase order day shipping amount receive pro...   \n",
              "1             1  forwarded message date tue subject please inve...   \n",
              "2             2  forwarded message cc sent friday pdt subject f...   \n",
              "3             3  payment history missing credit report speciali...   \n",
              "4             4  payment history missing credit report made mis...   \n",
              "\n",
              "   narrative_length  credit_card  credit_reporting  debt_collection  \\\n",
              "0              1705         True             False            False   \n",
              "1               904         True             False            False   \n",
              "2              1230        False             False            False   \n",
              "3               903        False              True            False   \n",
              "4               851        False              True            False   \n",
              "\n",
              "   mortgages_and_loans  retail_banking  has_html_tags  \n",
              "0                False           False          False  \n",
              "1                False           False          False  \n",
              "2                False            True          False  \n",
              "3                False           False          False  \n",
              "4                False           False          False  "
            ]
          },
          "execution_count": 19,
          "metadata": {},
          "output_type": "execute_result"
        }
      ],
      "source": [
        "from bs4 import BeautifulSoup\n",
        "\n",
        "## check if there is html tags\n",
        "\n",
        "def has_html_tags(text):\n",
        "    soup = BeautifulSoup(text, 'html.parser')\n",
        "    return bool(soup.find())\n",
        "\n",
        "df['has_html_tags'] = df['narrative'].apply(has_html_tags)\n",
        "df.head()"
      ]
    },
    {
      "cell_type": "code",
      "execution_count": 20,
      "metadata": {},
      "outputs": [
        {
          "data": {
            "text/plain": [
              "0"
            ]
          },
          "execution_count": 20,
          "metadata": {},
          "output_type": "execute_result"
        }
      ],
      "source": [
        "count_true = df['has_html_tags'].sum()\n",
        "count_true"
      ]
    },
    {
      "cell_type": "code",
      "execution_count": 21,
      "metadata": {},
      "outputs": [
        {
          "data": {
            "text/html": [
              "<div>\n",
              "<style scoped>\n",
              "    .dataframe tbody tr th:only-of-type {\n",
              "        vertical-align: middle;\n",
              "    }\n",
              "\n",
              "    .dataframe tbody tr th {\n",
              "        vertical-align: top;\n",
              "    }\n",
              "\n",
              "    .dataframe thead th {\n",
              "        text-align: right;\n",
              "    }\n",
              "</style>\n",
              "<table border=\"1\" class=\"dataframe\">\n",
              "  <thead>\n",
              "    <tr style=\"text-align: right;\">\n",
              "      <th></th>\n",
              "      <th>Complaint_No</th>\n",
              "      <th>narrative</th>\n",
              "      <th>narrative_length</th>\n",
              "      <th>credit_card</th>\n",
              "      <th>credit_reporting</th>\n",
              "      <th>debt_collection</th>\n",
              "      <th>mortgages_and_loans</th>\n",
              "      <th>retail_banking</th>\n",
              "    </tr>\n",
              "  </thead>\n",
              "  <tbody>\n",
              "    <tr>\n",
              "      <th>0</th>\n",
              "      <td>0</td>\n",
              "      <td>purchase order day shipping amount receive pro...</td>\n",
              "      <td>1705</td>\n",
              "      <td>True</td>\n",
              "      <td>False</td>\n",
              "      <td>False</td>\n",
              "      <td>False</td>\n",
              "      <td>False</td>\n",
              "    </tr>\n",
              "    <tr>\n",
              "      <th>1</th>\n",
              "      <td>1</td>\n",
              "      <td>forwarded message date tue subject please inve...</td>\n",
              "      <td>904</td>\n",
              "      <td>True</td>\n",
              "      <td>False</td>\n",
              "      <td>False</td>\n",
              "      <td>False</td>\n",
              "      <td>False</td>\n",
              "    </tr>\n",
              "    <tr>\n",
              "      <th>2</th>\n",
              "      <td>2</td>\n",
              "      <td>forwarded message cc sent friday pdt subject f...</td>\n",
              "      <td>1230</td>\n",
              "      <td>False</td>\n",
              "      <td>False</td>\n",
              "      <td>False</td>\n",
              "      <td>False</td>\n",
              "      <td>True</td>\n",
              "    </tr>\n",
              "    <tr>\n",
              "      <th>3</th>\n",
              "      <td>3</td>\n",
              "      <td>payment history missing credit report speciali...</td>\n",
              "      <td>903</td>\n",
              "      <td>False</td>\n",
              "      <td>True</td>\n",
              "      <td>False</td>\n",
              "      <td>False</td>\n",
              "      <td>False</td>\n",
              "    </tr>\n",
              "    <tr>\n",
              "      <th>4</th>\n",
              "      <td>4</td>\n",
              "      <td>payment history missing credit report made mis...</td>\n",
              "      <td>851</td>\n",
              "      <td>False</td>\n",
              "      <td>True</td>\n",
              "      <td>False</td>\n",
              "      <td>False</td>\n",
              "      <td>False</td>\n",
              "    </tr>\n",
              "  </tbody>\n",
              "</table>\n",
              "</div>"
            ],
            "text/plain": [
              "   Complaint_No                                          narrative  \\\n",
              "0             0  purchase order day shipping amount receive pro...   \n",
              "1             1  forwarded message date tue subject please inve...   \n",
              "2             2  forwarded message cc sent friday pdt subject f...   \n",
              "3             3  payment history missing credit report speciali...   \n",
              "4             4  payment history missing credit report made mis...   \n",
              "\n",
              "   narrative_length  credit_card  credit_reporting  debt_collection  \\\n",
              "0              1705         True             False            False   \n",
              "1               904         True             False            False   \n",
              "2              1230        False             False            False   \n",
              "3               903        False              True            False   \n",
              "4               851        False              True            False   \n",
              "\n",
              "   mortgages_and_loans  retail_banking  \n",
              "0                False           False  \n",
              "1                False           False  \n",
              "2                False            True  \n",
              "3                False           False  \n",
              "4                False           False  "
            ]
          },
          "execution_count": 21,
          "metadata": {},
          "output_type": "execute_result"
        }
      ],
      "source": [
        "df = df.drop('has_html_tags', axis=1)\n",
        "df.head()"
      ]
    },
    {
      "cell_type": "markdown",
      "metadata": {},
      "source": [
        "## 3- remove emojies"
      ]
    },
    {
      "cell_type": "code",
      "execution_count": 22,
      "metadata": {},
      "outputs": [
        {
          "name": "stdout",
          "output_type": "stream",
          "text": [
            "Requirement already satisfied: emoji in c:\\users\\himawan putra\\documents\\github\\deep-learning-bank-customer-complaint-analysis\\.conda\\lib\\site-packages (2.12.1)\n",
            "Requirement already satisfied: typing-extensions>=4.7.0 in c:\\users\\himawan putra\\documents\\github\\deep-learning-bank-customer-complaint-analysis\\.conda\\lib\\site-packages (from emoji) (4.12.2)\n"
          ]
        }
      ],
      "source": [
        "!pip install emoji"
      ]
    },
    {
      "cell_type": "code",
      "execution_count": 23,
      "metadata": {},
      "outputs": [
        {
          "name": "stdout",
          "output_type": "stream",
          "text": [
            "Requirement already satisfied: regex in c:\\users\\himawan putra\\documents\\github\\deep-learning-bank-customer-complaint-analysis\\.conda\\lib\\site-packages (2024.5.15)\n"
          ]
        }
      ],
      "source": [
        "!pip install regex"
      ]
    },
    {
      "cell_type": "code",
      "execution_count": 24,
      "metadata": {},
      "outputs": [
        {
          "name": "stdout",
          "output_type": "stream",
          "text": [
            "Requirement already satisfied: emoji in c:\\users\\himawan putra\\documents\\github\\deep-learning-bank-customer-complaint-analysis\\.conda\\lib\\site-packages (2.12.1)\n",
            "Requirement already satisfied: typing-extensions>=4.7.0 in c:\\users\\himawan putra\\documents\\github\\deep-learning-bank-customer-complaint-analysis\\.conda\\lib\\site-packages (from emoji) (4.12.2)\n"
          ]
        }
      ],
      "source": [
        "!pip install --upgrade emoji"
      ]
    },
    {
      "cell_type": "code",
      "execution_count": 25,
      "metadata": {},
      "outputs": [
        {
          "data": {
            "text/plain": [
              "0         False\n",
              "1         False\n",
              "2         False\n",
              "3         False\n",
              "4         False\n",
              "          ...  \n",
              "162416    False\n",
              "162417    False\n",
              "162418    False\n",
              "162419    False\n",
              "162420    False\n",
              "Name: narrative, Length: 162411, dtype: bool"
            ]
          },
          "execution_count": 25,
          "metadata": {},
          "output_type": "execute_result"
        }
      ],
      "source": [
        "import regex\n",
        "import pandas as pd\n",
        "\n",
        "# Function to check if a string contains emojis using a Unicode character property\n",
        "def has_emoji(text):\n",
        "    emoji_pattern = regex.compile(r'\\p{Emoji}', flags=regex.UNICODE)\n",
        "    return bool(emoji_pattern.search(text))\n",
        "\n",
        "\n",
        "has_emojis =  df['narrative'].apply(has_emoji)\n",
        "\n",
        "has_emojis"
      ]
    },
    {
      "cell_type": "code",
      "execution_count": 26,
      "metadata": {},
      "outputs": [
        {
          "data": {
            "text/plain": [
              "0"
            ]
          },
          "execution_count": 26,
          "metadata": {},
          "output_type": "execute_result"
        }
      ],
      "source": [
        "has_emojis.sum()"
      ]
    },
    {
      "cell_type": "markdown",
      "metadata": {},
      "source": [
        "## 4- remove URLs"
      ]
    },
    {
      "cell_type": "code",
      "execution_count": 27,
      "metadata": {},
      "outputs": [
        {
          "data": {
            "text/html": [
              "<div>\n",
              "<style scoped>\n",
              "    .dataframe tbody tr th:only-of-type {\n",
              "        vertical-align: middle;\n",
              "    }\n",
              "\n",
              "    .dataframe tbody tr th {\n",
              "        vertical-align: top;\n",
              "    }\n",
              "\n",
              "    .dataframe thead th {\n",
              "        text-align: right;\n",
              "    }\n",
              "</style>\n",
              "<table border=\"1\" class=\"dataframe\">\n",
              "  <thead>\n",
              "    <tr style=\"text-align: right;\">\n",
              "      <th></th>\n",
              "      <th>Complaint_No</th>\n",
              "      <th>narrative</th>\n",
              "      <th>narrative_length</th>\n",
              "      <th>credit_card</th>\n",
              "      <th>credit_reporting</th>\n",
              "      <th>debt_collection</th>\n",
              "      <th>mortgages_and_loans</th>\n",
              "      <th>retail_banking</th>\n",
              "    </tr>\n",
              "  </thead>\n",
              "  <tbody>\n",
              "    <tr>\n",
              "      <th>0</th>\n",
              "      <td>0</td>\n",
              "      <td>purchase order day shipping amount receive pro...</td>\n",
              "      <td>1705</td>\n",
              "      <td>True</td>\n",
              "      <td>False</td>\n",
              "      <td>False</td>\n",
              "      <td>False</td>\n",
              "      <td>False</td>\n",
              "    </tr>\n",
              "    <tr>\n",
              "      <th>1</th>\n",
              "      <td>1</td>\n",
              "      <td>forwarded message date tue subject please inve...</td>\n",
              "      <td>904</td>\n",
              "      <td>True</td>\n",
              "      <td>False</td>\n",
              "      <td>False</td>\n",
              "      <td>False</td>\n",
              "      <td>False</td>\n",
              "    </tr>\n",
              "    <tr>\n",
              "      <th>2</th>\n",
              "      <td>2</td>\n",
              "      <td>forwarded message cc sent friday pdt subject f...</td>\n",
              "      <td>1230</td>\n",
              "      <td>False</td>\n",
              "      <td>False</td>\n",
              "      <td>False</td>\n",
              "      <td>False</td>\n",
              "      <td>True</td>\n",
              "    </tr>\n",
              "    <tr>\n",
              "      <th>3</th>\n",
              "      <td>3</td>\n",
              "      <td>payment history missing credit report speciali...</td>\n",
              "      <td>903</td>\n",
              "      <td>False</td>\n",
              "      <td>True</td>\n",
              "      <td>False</td>\n",
              "      <td>False</td>\n",
              "      <td>False</td>\n",
              "    </tr>\n",
              "    <tr>\n",
              "      <th>4</th>\n",
              "      <td>4</td>\n",
              "      <td>payment history missing credit report made mis...</td>\n",
              "      <td>851</td>\n",
              "      <td>False</td>\n",
              "      <td>True</td>\n",
              "      <td>False</td>\n",
              "      <td>False</td>\n",
              "      <td>False</td>\n",
              "    </tr>\n",
              "  </tbody>\n",
              "</table>\n",
              "</div>"
            ],
            "text/plain": [
              "   Complaint_No                                          narrative  \\\n",
              "0             0  purchase order day shipping amount receive pro...   \n",
              "1             1  forwarded message date tue subject please inve...   \n",
              "2             2  forwarded message cc sent friday pdt subject f...   \n",
              "3             3  payment history missing credit report speciali...   \n",
              "4             4  payment history missing credit report made mis...   \n",
              "\n",
              "   narrative_length  credit_card  credit_reporting  debt_collection  \\\n",
              "0              1705         True             False            False   \n",
              "1               904         True             False            False   \n",
              "2              1230        False             False            False   \n",
              "3               903        False              True            False   \n",
              "4               851        False              True            False   \n",
              "\n",
              "   mortgages_and_loans  retail_banking  \n",
              "0                False           False  \n",
              "1                False           False  \n",
              "2                False            True  \n",
              "3                False           False  \n",
              "4                False           False  "
            ]
          },
          "execution_count": 27,
          "metadata": {},
          "output_type": "execute_result"
        }
      ],
      "source": [
        "import re\n",
        "def remove_url(text):\n",
        "    pattern=re.compile(r'https?://\\S+|www\\.S+')\n",
        "    return pattern.sub(r'',text)\n",
        "df[\"narrative\"]=df[\"narrative\"].apply(remove_url)\n",
        "\n",
        "df.head()"
      ]
    },
    {
      "cell_type": "markdown",
      "metadata": {},
      "source": [
        "## 5- Remove puncatution"
      ]
    },
    {
      "cell_type": "code",
      "execution_count": 28,
      "metadata": {},
      "outputs": [
        {
          "data": {
            "text/plain": [
              "'!\"#$%&\\'()*+,-./:;<=>?@[\\\\]^_`{|}~'"
            ]
          },
          "execution_count": 28,
          "metadata": {},
          "output_type": "execute_result"
        }
      ],
      "source": [
        "import string\n",
        "string.punctuation"
      ]
    },
    {
      "cell_type": "code",
      "execution_count": 29,
      "metadata": {},
      "outputs": [],
      "source": [
        "punc=string.punctuation"
      ]
    },
    {
      "cell_type": "code",
      "execution_count": 30,
      "metadata": {},
      "outputs": [
        {
          "data": {
            "text/html": [
              "<div>\n",
              "<style scoped>\n",
              "    .dataframe tbody tr th:only-of-type {\n",
              "        vertical-align: middle;\n",
              "    }\n",
              "\n",
              "    .dataframe tbody tr th {\n",
              "        vertical-align: top;\n",
              "    }\n",
              "\n",
              "    .dataframe thead th {\n",
              "        text-align: right;\n",
              "    }\n",
              "</style>\n",
              "<table border=\"1\" class=\"dataframe\">\n",
              "  <thead>\n",
              "    <tr style=\"text-align: right;\">\n",
              "      <th></th>\n",
              "      <th>Complaint_No</th>\n",
              "      <th>narrative</th>\n",
              "      <th>narrative_length</th>\n",
              "      <th>credit_card</th>\n",
              "      <th>credit_reporting</th>\n",
              "      <th>debt_collection</th>\n",
              "      <th>mortgages_and_loans</th>\n",
              "      <th>retail_banking</th>\n",
              "    </tr>\n",
              "  </thead>\n",
              "  <tbody>\n",
              "    <tr>\n",
              "      <th>0</th>\n",
              "      <td>0</td>\n",
              "      <td>purchase order day shipping amount receive pro...</td>\n",
              "      <td>1705</td>\n",
              "      <td>True</td>\n",
              "      <td>False</td>\n",
              "      <td>False</td>\n",
              "      <td>False</td>\n",
              "      <td>False</td>\n",
              "    </tr>\n",
              "    <tr>\n",
              "      <th>1</th>\n",
              "      <td>1</td>\n",
              "      <td>forwarded message date tue subject please inve...</td>\n",
              "      <td>904</td>\n",
              "      <td>True</td>\n",
              "      <td>False</td>\n",
              "      <td>False</td>\n",
              "      <td>False</td>\n",
              "      <td>False</td>\n",
              "    </tr>\n",
              "    <tr>\n",
              "      <th>2</th>\n",
              "      <td>2</td>\n",
              "      <td>forwarded message cc sent friday pdt subject f...</td>\n",
              "      <td>1230</td>\n",
              "      <td>False</td>\n",
              "      <td>False</td>\n",
              "      <td>False</td>\n",
              "      <td>False</td>\n",
              "      <td>True</td>\n",
              "    </tr>\n",
              "    <tr>\n",
              "      <th>3</th>\n",
              "      <td>3</td>\n",
              "      <td>payment history missing credit report speciali...</td>\n",
              "      <td>903</td>\n",
              "      <td>False</td>\n",
              "      <td>True</td>\n",
              "      <td>False</td>\n",
              "      <td>False</td>\n",
              "      <td>False</td>\n",
              "    </tr>\n",
              "    <tr>\n",
              "      <th>4</th>\n",
              "      <td>4</td>\n",
              "      <td>payment history missing credit report made mis...</td>\n",
              "      <td>851</td>\n",
              "      <td>False</td>\n",
              "      <td>True</td>\n",
              "      <td>False</td>\n",
              "      <td>False</td>\n",
              "      <td>False</td>\n",
              "    </tr>\n",
              "  </tbody>\n",
              "</table>\n",
              "</div>"
            ],
            "text/plain": [
              "   Complaint_No                                          narrative  \\\n",
              "0             0  purchase order day shipping amount receive pro...   \n",
              "1             1  forwarded message date tue subject please inve...   \n",
              "2             2  forwarded message cc sent friday pdt subject f...   \n",
              "3             3  payment history missing credit report speciali...   \n",
              "4             4  payment history missing credit report made mis...   \n",
              "\n",
              "   narrative_length  credit_card  credit_reporting  debt_collection  \\\n",
              "0              1705         True             False            False   \n",
              "1               904         True             False            False   \n",
              "2              1230        False             False            False   \n",
              "3               903        False              True            False   \n",
              "4               851        False              True            False   \n",
              "\n",
              "   mortgages_and_loans  retail_banking  \n",
              "0                False           False  \n",
              "1                False           False  \n",
              "2                False            True  \n",
              "3                False           False  \n",
              "4                False           False  "
            ]
          },
          "execution_count": 30,
          "metadata": {},
          "output_type": "execute_result"
        }
      ],
      "source": [
        "def remove_punc(text):\n",
        "    return text.translate(str.maketrans('', '',punc))\n",
        "\n",
        "df[\"narrative\"]=df[\"narrative\"].apply(remove_punc)\n",
        "df.head()"
      ]
    },
    {
      "cell_type": "markdown",
      "metadata": {},
      "source": [
        "## 6- remove stop words"
      ]
    },
    {
      "cell_type": "code",
      "execution_count": 31,
      "metadata": {},
      "outputs": [
        {
          "name": "stdout",
          "output_type": "stream",
          "text": [
            "Requirement already satisfied: nltk in c:\\users\\himawan putra\\documents\\github\\deep-learning-bank-customer-complaint-analysis\\.conda\\lib\\site-packages (3.8.1)\n",
            "Requirement already satisfied: click in c:\\users\\himawan putra\\documents\\github\\deep-learning-bank-customer-complaint-analysis\\.conda\\lib\\site-packages (from nltk) (8.1.7)\n",
            "Requirement already satisfied: joblib in c:\\users\\himawan putra\\documents\\github\\deep-learning-bank-customer-complaint-analysis\\.conda\\lib\\site-packages (from nltk) (1.4.2)\n",
            "Requirement already satisfied: regex>=2021.8.3 in c:\\users\\himawan putra\\documents\\github\\deep-learning-bank-customer-complaint-analysis\\.conda\\lib\\site-packages (from nltk) (2024.5.15)\n",
            "Requirement already satisfied: tqdm in c:\\users\\himawan putra\\documents\\github\\deep-learning-bank-customer-complaint-analysis\\.conda\\lib\\site-packages (from nltk) (4.66.4)\n",
            "Requirement already satisfied: colorama in c:\\users\\himawan putra\\appdata\\roaming\\python\\python312\\site-packages (from click->nltk) (0.4.6)\n",
            "Note: you may need to restart the kernel to use updated packages.\n"
          ]
        }
      ],
      "source": [
        "pip install nltk\n"
      ]
    },
    {
      "cell_type": "code",
      "execution_count": 32,
      "metadata": {},
      "outputs": [
        {
          "name": "stderr",
          "output_type": "stream",
          "text": [
            "[nltk_data] Downloading package stopwords to C:\\Users\\Himawan\n",
            "[nltk_data]     Putra\\AppData\\Roaming\\nltk_data...\n",
            "[nltk_data]   Package stopwords is already up-to-date!\n"
          ]
        }
      ],
      "source": [
        "from nltk.corpus import stopwords\n",
        "import nltk\n",
        "nltk.download('stopwords')\n",
        "stop_words=set(stopwords.words('english'))"
      ]
    },
    {
      "cell_type": "code",
      "execution_count": 33,
      "metadata": {},
      "outputs": [
        {
          "data": {
            "text/html": [
              "<div>\n",
              "<style scoped>\n",
              "    .dataframe tbody tr th:only-of-type {\n",
              "        vertical-align: middle;\n",
              "    }\n",
              "\n",
              "    .dataframe tbody tr th {\n",
              "        vertical-align: top;\n",
              "    }\n",
              "\n",
              "    .dataframe thead th {\n",
              "        text-align: right;\n",
              "    }\n",
              "</style>\n",
              "<table border=\"1\" class=\"dataframe\">\n",
              "  <thead>\n",
              "    <tr style=\"text-align: right;\">\n",
              "      <th></th>\n",
              "      <th>Complaint_No</th>\n",
              "      <th>narrative</th>\n",
              "      <th>narrative_length</th>\n",
              "      <th>credit_card</th>\n",
              "      <th>credit_reporting</th>\n",
              "      <th>debt_collection</th>\n",
              "      <th>mortgages_and_loans</th>\n",
              "      <th>retail_banking</th>\n",
              "    </tr>\n",
              "  </thead>\n",
              "  <tbody>\n",
              "    <tr>\n",
              "      <th>0</th>\n",
              "      <td>0</td>\n",
              "      <td>purchase order day shipping amount receive pro...</td>\n",
              "      <td>1705</td>\n",
              "      <td>True</td>\n",
              "      <td>False</td>\n",
              "      <td>False</td>\n",
              "      <td>False</td>\n",
              "      <td>False</td>\n",
              "    </tr>\n",
              "    <tr>\n",
              "      <th>1</th>\n",
              "      <td>1</td>\n",
              "      <td>forwarded message date tue subject please inve...</td>\n",
              "      <td>904</td>\n",
              "      <td>True</td>\n",
              "      <td>False</td>\n",
              "      <td>False</td>\n",
              "      <td>False</td>\n",
              "      <td>False</td>\n",
              "    </tr>\n",
              "    <tr>\n",
              "      <th>2</th>\n",
              "      <td>2</td>\n",
              "      <td>forwarded message cc sent friday pdt subject f...</td>\n",
              "      <td>1230</td>\n",
              "      <td>False</td>\n",
              "      <td>False</td>\n",
              "      <td>False</td>\n",
              "      <td>False</td>\n",
              "      <td>True</td>\n",
              "    </tr>\n",
              "    <tr>\n",
              "      <th>3</th>\n",
              "      <td>3</td>\n",
              "      <td>payment history missing credit report speciali...</td>\n",
              "      <td>903</td>\n",
              "      <td>False</td>\n",
              "      <td>True</td>\n",
              "      <td>False</td>\n",
              "      <td>False</td>\n",
              "      <td>False</td>\n",
              "    </tr>\n",
              "    <tr>\n",
              "      <th>4</th>\n",
              "      <td>4</td>\n",
              "      <td>payment history missing credit report made mis...</td>\n",
              "      <td>851</td>\n",
              "      <td>False</td>\n",
              "      <td>True</td>\n",
              "      <td>False</td>\n",
              "      <td>False</td>\n",
              "      <td>False</td>\n",
              "    </tr>\n",
              "  </tbody>\n",
              "</table>\n",
              "</div>"
            ],
            "text/plain": [
              "   Complaint_No                                          narrative  \\\n",
              "0             0  purchase order day shipping amount receive pro...   \n",
              "1             1  forwarded message date tue subject please inve...   \n",
              "2             2  forwarded message cc sent friday pdt subject f...   \n",
              "3             3  payment history missing credit report speciali...   \n",
              "4             4  payment history missing credit report made mis...   \n",
              "\n",
              "   narrative_length  credit_card  credit_reporting  debt_collection  \\\n",
              "0              1705         True             False            False   \n",
              "1               904         True             False            False   \n",
              "2              1230        False             False            False   \n",
              "3               903        False              True            False   \n",
              "4               851        False              True            False   \n",
              "\n",
              "   mortgages_and_loans  retail_banking  \n",
              "0                False           False  \n",
              "1                False           False  \n",
              "2                False            True  \n",
              "3                False           False  \n",
              "4                False           False  "
            ]
          },
          "execution_count": 33,
          "metadata": {},
          "output_type": "execute_result"
        }
      ],
      "source": [
        "def remove_stopwords(text):\n",
        "    words = text.split()\n",
        "    filtered_words = [word for word in words if word not in stop_words]\n",
        "    return \" \".join(filtered_words)\n",
        "\n",
        "df[\"narrative\"]=df[\"narrative\"].apply(lambda x: remove_stopwords(x))\n",
        "\n",
        "df.head()"
      ]
    },
    {
      "cell_type": "markdown",
      "metadata": {},
      "source": [
        "## 7- Tokenize"
      ]
    },
    {
      "cell_type": "code",
      "execution_count": 34,
      "metadata": {},
      "outputs": [
        {
          "name": "stderr",
          "output_type": "stream",
          "text": [
            "[nltk_data] Downloading package punkt to C:\\Users\\Himawan\n",
            "[nltk_data]     Putra\\AppData\\Roaming\\nltk_data...\n",
            "[nltk_data]   Package punkt is already up-to-date!\n"
          ]
        },
        {
          "data": {
            "text/html": [
              "<div>\n",
              "<style scoped>\n",
              "    .dataframe tbody tr th:only-of-type {\n",
              "        vertical-align: middle;\n",
              "    }\n",
              "\n",
              "    .dataframe tbody tr th {\n",
              "        vertical-align: top;\n",
              "    }\n",
              "\n",
              "    .dataframe thead th {\n",
              "        text-align: right;\n",
              "    }\n",
              "</style>\n",
              "<table border=\"1\" class=\"dataframe\">\n",
              "  <thead>\n",
              "    <tr style=\"text-align: right;\">\n",
              "      <th></th>\n",
              "      <th>Complaint_No</th>\n",
              "      <th>narrative</th>\n",
              "      <th>narrative_length</th>\n",
              "      <th>credit_card</th>\n",
              "      <th>credit_reporting</th>\n",
              "      <th>debt_collection</th>\n",
              "      <th>mortgages_and_loans</th>\n",
              "      <th>retail_banking</th>\n",
              "      <th>Complaint_tokenized_text</th>\n",
              "    </tr>\n",
              "  </thead>\n",
              "  <tbody>\n",
              "    <tr>\n",
              "      <th>0</th>\n",
              "      <td>0</td>\n",
              "      <td>purchase order day shipping amount receive pro...</td>\n",
              "      <td>1705</td>\n",
              "      <td>True</td>\n",
              "      <td>False</td>\n",
              "      <td>False</td>\n",
              "      <td>False</td>\n",
              "      <td>False</td>\n",
              "      <td>[[purchase, order, day, shipping, amount, rece...</td>\n",
              "    </tr>\n",
              "    <tr>\n",
              "      <th>1</th>\n",
              "      <td>1</td>\n",
              "      <td>forwarded message date tue subject please inve...</td>\n",
              "      <td>904</td>\n",
              "      <td>True</td>\n",
              "      <td>False</td>\n",
              "      <td>False</td>\n",
              "      <td>False</td>\n",
              "      <td>False</td>\n",
              "      <td>[[forwarded, message, date, tue, subject, plea...</td>\n",
              "    </tr>\n",
              "    <tr>\n",
              "      <th>2</th>\n",
              "      <td>2</td>\n",
              "      <td>forwarded message cc sent friday pdt subject f...</td>\n",
              "      <td>1230</td>\n",
              "      <td>False</td>\n",
              "      <td>False</td>\n",
              "      <td>False</td>\n",
              "      <td>False</td>\n",
              "      <td>True</td>\n",
              "      <td>[[forwarded, message, cc, sent, friday, pdt, s...</td>\n",
              "    </tr>\n",
              "    <tr>\n",
              "      <th>3</th>\n",
              "      <td>3</td>\n",
              "      <td>payment history missing credit report speciali...</td>\n",
              "      <td>903</td>\n",
              "      <td>False</td>\n",
              "      <td>True</td>\n",
              "      <td>False</td>\n",
              "      <td>False</td>\n",
              "      <td>False</td>\n",
              "      <td>[[payment, history, missing, credit, report, s...</td>\n",
              "    </tr>\n",
              "    <tr>\n",
              "      <th>4</th>\n",
              "      <td>4</td>\n",
              "      <td>payment history missing credit report made mis...</td>\n",
              "      <td>851</td>\n",
              "      <td>False</td>\n",
              "      <td>True</td>\n",
              "      <td>False</td>\n",
              "      <td>False</td>\n",
              "      <td>False</td>\n",
              "      <td>[[payment, history, missing, credit, report, m...</td>\n",
              "    </tr>\n",
              "  </tbody>\n",
              "</table>\n",
              "</div>"
            ],
            "text/plain": [
              "   Complaint_No                                          narrative  \\\n",
              "0             0  purchase order day shipping amount receive pro...   \n",
              "1             1  forwarded message date tue subject please inve...   \n",
              "2             2  forwarded message cc sent friday pdt subject f...   \n",
              "3             3  payment history missing credit report speciali...   \n",
              "4             4  payment history missing credit report made mis...   \n",
              "\n",
              "   narrative_length  credit_card  credit_reporting  debt_collection  \\\n",
              "0              1705         True             False            False   \n",
              "1               904         True             False            False   \n",
              "2              1230        False             False            False   \n",
              "3               903        False              True            False   \n",
              "4               851        False              True            False   \n",
              "\n",
              "   mortgages_and_loans  retail_banking  \\\n",
              "0                False           False   \n",
              "1                False           False   \n",
              "2                False            True   \n",
              "3                False           False   \n",
              "4                False           False   \n",
              "\n",
              "                            Complaint_tokenized_text  \n",
              "0  [[purchase, order, day, shipping, amount, rece...  \n",
              "1  [[forwarded, message, date, tue, subject, plea...  \n",
              "2  [[forwarded, message, cc, sent, friday, pdt, s...  \n",
              "3  [[payment, history, missing, credit, report, s...  \n",
              "4  [[payment, history, missing, credit, report, m...  "
            ]
          },
          "execution_count": 34,
          "metadata": {},
          "output_type": "execute_result"
        }
      ],
      "source": [
        "import nltk\n",
        "nltk.download('punkt')\n",
        "from nltk import word_tokenize, sent_tokenize\n",
        "\n",
        "# Function to apply sentence and word tokenization\n",
        "def tokenize_text(text):\n",
        "    sentences = sent_tokenize(text)\n",
        "    words = [word_tokenize(sentence) for sentence in sentences]\n",
        "    return words\n",
        "\n",
        "df['Complaint_tokenized_text'] = df['narrative'].apply(tokenize_text)\n",
        "\n",
        "df.head()"
      ]
    },
    {
      "cell_type": "code",
      "execution_count": 35,
      "metadata": {},
      "outputs": [
        {
          "data": {
            "text/plain": [
              "['purchase',\n",
              " 'order',\n",
              " 'day',\n",
              " 'shipping',\n",
              " 'amount',\n",
              " 'receive',\n",
              " 'product',\n",
              " 'week',\n",
              " 'sent',\n",
              " 'followup',\n",
              " 'email',\n",
              " 'exact',\n",
              " 'verbiage',\n",
              " 'paid',\n",
              " 'two',\n",
              " 'day',\n",
              " 'shipping',\n",
              " 'received',\n",
              " 'order',\n",
              " 'company',\n",
              " 'responded',\n",
              " 'im',\n",
              " 'sorry',\n",
              " 'inform',\n",
              " 'due',\n",
              " 'unusually',\n",
              " 'high',\n",
              " 'order',\n",
              " 'volume',\n",
              " 'order',\n",
              " 'shipped',\n",
              " 'several',\n",
              " 'week',\n",
              " 'stock',\n",
              " 'since',\n",
              " 'early',\n",
              " 'due',\n",
              " 'high',\n",
              " 'demand',\n",
              " 'although',\n",
              " 'continuing',\n",
              " 'take',\n",
              " 'order',\n",
              " 'guaranteeing',\n",
              " 'receive',\n",
              " 'order',\n",
              " 'place',\n",
              " 'due',\n",
              " 'time',\n",
              " 'mask',\n",
              " 'order',\n",
              " 'exact',\n",
              " 'shipping',\n",
              " 'date',\n",
              " 'right',\n",
              " 'however',\n",
              " 'guarantee',\n",
              " 'ship',\n",
              " 'soon',\n",
              " 'soon',\n",
              " 'delivers',\n",
              " 'product',\n",
              " 'u',\n",
              " 'getting',\n",
              " 'small',\n",
              " 'shipment',\n",
              " 'shipping',\n",
              " 'first',\n",
              " 'come',\n",
              " 'first',\n",
              " 'served',\n",
              " 'basis',\n",
              " 'appreciate',\n",
              " 'patience',\n",
              " 'fulfill',\n",
              " 'order',\n",
              " 'quickly',\n",
              " 'recommend',\n",
              " 'keeping',\n",
              " 'order',\n",
              " 'lose',\n",
              " 'place',\n",
              " 'line',\n",
              " 'cancel',\n",
              " 'distributor',\n",
              " 'stock',\n",
              " 'moment',\n",
              " 'prefer',\n",
              " 'cancel',\n",
              " 'please',\n",
              " 'note',\n",
              " 'ask',\n",
              " 'via',\n",
              " 'email',\n",
              " 'cancel',\n",
              " 'accordance',\n",
              " 'cancellation',\n",
              " 'policy',\n",
              " 'agreed',\n",
              " 'checkout',\n",
              " 'electronic',\n",
              " 'inventory',\n",
              " 'online',\n",
              " 'requested',\n",
              " 'order',\n",
              " 'canceled',\n",
              " 'refund',\n",
              " 'issued',\n",
              " 'canceled',\n",
              " 'order',\n",
              " 'sent',\n",
              " 'verification',\n",
              " 'order',\n",
              " 'canceled',\n",
              " 'refunded',\n",
              " 'item',\n",
              " 'particulate',\n",
              " 'respirator',\n",
              " 'refunded',\n",
              " 'subtotal',\n",
              " 'shipping',\n",
              " 'tax',\n",
              " 'total',\n",
              " 'usd',\n",
              " 'visa',\n",
              " 'ending',\n",
              " 'refund',\n",
              " 'called',\n",
              " 'disputed',\n",
              " 'amount',\n",
              " 'stated',\n",
              " 'nothing',\n",
              " 'needed',\n",
              " 'submitted',\n",
              " 'address',\n",
              " 'issue',\n",
              " 'recharged',\n",
              " 'item',\n",
              " 'removing',\n",
              " 'called',\n",
              " 'back',\n",
              " 'dispute',\n",
              " 'amount',\n",
              " 'transaction',\n",
              " 'rebillmerchandiserobert',\n",
              " 'ca',\n",
              " 'purchased',\n",
              " 'thu',\n",
              " 'posted',\n",
              " 'wed',\n",
              " 'purchased',\n",
              " 'appears',\n",
              " 'statement',\n",
              " 'transaction',\n",
              " 'rebill',\n",
              " 'ca',\n",
              " 'u',\n",
              " 'followed',\n",
              " 'see',\n",
              " 'status',\n",
              " 'case',\n",
              " 'submitted',\n",
              " 'documentation',\n",
              " 'showing',\n",
              " 'canceled',\n",
              " 'order',\n",
              " 'supposed',\n",
              " 'submit',\n",
              " 'refund',\n",
              " 'called',\n",
              " 'back',\n",
              " 'speak',\n",
              " 'manager',\n",
              " 'case',\n",
              " 'stated',\n",
              " 'dispute',\n",
              " 'ruled',\n",
              " 'favor',\n",
              " 'charge',\n",
              " 'removed',\n",
              " 'card',\n",
              " 'capital',\n",
              " 'one',\n",
              " 'removed',\n",
              " 'purchase',\n",
              " 'bill',\n",
              " 'purchase',\n",
              " 'adjustmentmerchandiserobert',\n",
              " 'j',\n",
              " 'posted',\n",
              " 'fri',\n",
              " 'purchased',\n",
              " 'appears',\n",
              " 'statement',\n",
              " 'purchase',\n",
              " 'adjustment',\n",
              " 'capital',\n",
              " 'one',\n",
              " 'recharges',\n",
              " 'amount',\n",
              " 'transaction',\n",
              " 'rebillmerchandiserobert',\n",
              " 'j',\n",
              " 'purchased',\n",
              " 'thu',\n",
              " 'posted',\n",
              " 'mon',\n",
              " 'purchased',\n",
              " 'appears',\n",
              " 'statement',\n",
              " 'transaction',\n",
              " 'rebill',\n",
              " 'called',\n",
              " 'capital',\n",
              " 'one',\n",
              " 'requested',\n",
              " 'recharge',\n",
              " 'stated',\n",
              " 'visa',\n",
              " 'ruled',\n",
              " 'case',\n",
              " 'pretended',\n",
              " 'remove',\n",
              " 'purchase',\n",
              " 'knew',\n",
              " 'anything',\n",
              " 'case',\n",
              " 'manager',\n",
              " 'ruling',\n",
              " 'favor']"
            ]
          },
          "execution_count": 35,
          "metadata": {},
          "output_type": "execute_result"
        }
      ],
      "source": [
        "df[\"Complaint_tokenized_text\"][0][0]"
      ]
    },
    {
      "cell_type": "code",
      "execution_count": 36,
      "metadata": {},
      "outputs": [],
      "source": [
        "import os\n",
        "\n",
        "# Membuat direktori 'result' jika belum ada\n",
        "os.makedirs('result', exist_ok=True)\n"
      ]
    },
    {
      "cell_type": "code",
      "execution_count": 37,
      "metadata": {},
      "outputs": [],
      "source": [
        "df.to_csv('result/01_date_preprocessing_result.csv',encoding='utf8',index=False)"
      ]
    }
  ],
  "metadata": {
    "colab": {
      "provenance": []
    },
    "kernelspec": {
      "display_name": "Python 3",
      "name": "python3"
    },
    "language_info": {
      "codemirror_mode": {
        "name": "ipython",
        "version": 3
      },
      "file_extension": ".py",
      "mimetype": "text/x-python",
      "name": "python",
      "nbconvert_exporter": "python",
      "pygments_lexer": "ipython3",
      "version": "3.12.4"
    }
  },
  "nbformat": 4,
  "nbformat_minor": 0
}
