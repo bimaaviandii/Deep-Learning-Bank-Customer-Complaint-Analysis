{
  "nbformat": 4,
  "nbformat_minor": 0,
  "metadata": {
    "colab": {
      "provenance": []
    },
    "kernelspec": {
      "name": "python3",
      "display_name": "Python 3"
    },
    "language_info": {
      "name": "python"
    }
  },
  "cells": [
    {
      "cell_type": "code",
      "execution_count": null,
      "metadata": {
        "id": "LQy698OIo25G"
      },
      "outputs": [],
      "source": []
    },
    {
      "cell_type": "markdown",
      "source": [
        "#Dataset\n",
        "<hr>"
      ],
      "metadata": {
        "id": "RGu55wWuo3fh"
      }
    },
    {
      "cell_type": "markdown",
      "source": [
        "# RNN\n",
        "<hr>"
      ],
      "metadata": {
        "id": "0yNr3iH1o8MG"
      }
    }
  ]
}